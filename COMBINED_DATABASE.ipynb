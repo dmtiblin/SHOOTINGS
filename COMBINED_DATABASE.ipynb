{
 "cells": [
  {
   "cell_type": "code",
   "execution_count": 18,
   "id": "c5e5624c",
   "metadata": {},
   "outputs": [
    {
     "ename": "ModuleNotFoundError",
     "evalue": "No module named 'census'",
     "output_type": "error",
     "traceback": [
      "\u001b[1;31m---------------------------------------------------------------------------\u001b[0m",
      "\u001b[1;31mModuleNotFoundError\u001b[0m                       Traceback (most recent call last)",
      "\u001b[1;32m<ipython-input-18-b463225c2d75>\u001b[0m in \u001b[0;36m<module>\u001b[1;34m\u001b[0m\n\u001b[0;32m      1\u001b[0m \u001b[1;32mimport\u001b[0m \u001b[0mpandas\u001b[0m \u001b[1;32mas\u001b[0m \u001b[0mpd\u001b[0m\u001b[1;33m\u001b[0m\u001b[1;33m\u001b[0m\u001b[0m\n\u001b[0;32m      2\u001b[0m \u001b[1;32mfrom\u001b[0m \u001b[0mconfig\u001b[0m \u001b[1;32mimport\u001b[0m \u001b[0mapi_keyUSC\u001b[0m\u001b[1;33m,\u001b[0m \u001b[0mPG_key\u001b[0m\u001b[1;33m\u001b[0m\u001b[1;33m\u001b[0m\u001b[0m\n\u001b[1;32m----> 3\u001b[1;33m \u001b[1;32mfrom\u001b[0m \u001b[0mcensus\u001b[0m \u001b[1;32mimport\u001b[0m \u001b[0mCensus\u001b[0m\u001b[1;33m\u001b[0m\u001b[1;33m\u001b[0m\u001b[0m\n\u001b[0m\u001b[0;32m      4\u001b[0m \u001b[1;32mfrom\u001b[0m \u001b[0msqlalchemy\u001b[0m \u001b[1;32mimport\u001b[0m \u001b[0mcreate_engine\u001b[0m\u001b[1;33m\u001b[0m\u001b[1;33m\u001b[0m\u001b[0m\n",
      "\u001b[1;31mModuleNotFoundError\u001b[0m: No module named 'census'"
     ]
    }
   ],
   "source": [
    "import pandas as pd\n",
    "from config import api_keyUSC, PG_key\n",
    "from census import Census\n",
    "from sqlalchemy import create_engine"
   ]
  },
  {
   "cell_type": "markdown",
   "id": "c6c75b8d",
   "metadata": {},
   "source": [
    "# ASFIN"
   ]
  },
  {
   "cell_type": "code",
   "execution_count": 2,
   "id": "26867c84",
   "metadata": {},
   "outputs": [],
   "source": [
    "#import .csv file into DF\n",
    "#note: currency values are in Thousands of Dollars\n",
    "\n",
    "state_asfin_df = pd.read_csv ('2015_asfin_state_totals_transposed.csv')"
   ]
  },
  {
   "cell_type": "code",
   "execution_count": 3,
   "id": "9da513d5",
   "metadata": {},
   "outputs": [],
   "source": [
    "state_asfin_df.set_index('State', inplace=True)\n",
    "state_asfin_df.drop(['United States'], inplace = True)\n",
    "state_asfin_df = state_asfin_df[['General expenditure','Education', 'Public welfare', 'Hospitals', 'Health', 'Highways', 'Police protection', 'Correction', 'Natural resources' ]]\n",
    "\n",
    "state_asfin_df = state_asfin_df.rename(columns={'General expenditure':'Total General Expenditure','Education': 'Education Expediture', 'Public welfare':'Public Welfare Expenditure', 'Hospitals': 'Hospitals Expenditure', 'Health': 'Health Expenditure', 'Highways': 'Highways Expenditure', 'Police protection':'Police Protection Expenditure', 'Correction':'Correction Expenditure', 'Natural resources':'Natural Resources Expenditure'})"
   ]
  },
  {
   "cell_type": "code",
   "execution_count": 4,
   "id": "bca616b8",
   "metadata": {},
   "outputs": [
    {
     "data": {
      "text/html": [
       "<div>\n",
       "<style scoped>\n",
       "    .dataframe tbody tr th:only-of-type {\n",
       "        vertical-align: middle;\n",
       "    }\n",
       "\n",
       "    .dataframe tbody tr th {\n",
       "        vertical-align: top;\n",
       "    }\n",
       "\n",
       "    .dataframe thead th {\n",
       "        text-align: right;\n",
       "    }\n",
       "</style>\n",
       "<table border=\"1\" class=\"dataframe\">\n",
       "  <thead>\n",
       "    <tr style=\"text-align: right;\">\n",
       "      <th></th>\n",
       "      <th>Total General Expenditure</th>\n",
       "      <th>Education Expediture</th>\n",
       "      <th>Public Welfare Expenditure</th>\n",
       "      <th>Hospitals Expenditure</th>\n",
       "      <th>Health Expenditure</th>\n",
       "      <th>Highways Expenditure</th>\n",
       "      <th>Police Protection Expenditure</th>\n",
       "      <th>Correction Expenditure</th>\n",
       "      <th>Natural Resources Expenditure</th>\n",
       "    </tr>\n",
       "    <tr>\n",
       "      <th>State</th>\n",
       "      <th></th>\n",
       "      <th></th>\n",
       "      <th></th>\n",
       "      <th></th>\n",
       "      <th></th>\n",
       "      <th></th>\n",
       "      <th></th>\n",
       "      <th></th>\n",
       "      <th></th>\n",
       "    </tr>\n",
       "  </thead>\n",
       "  <tbody>\n",
       "    <tr>\n",
       "      <th>Alabama</th>\n",
       "      <td>28,710,747</td>\n",
       "      <td>12,235,527</td>\n",
       "      <td>8,204,660</td>\n",
       "      <td>2,370,549</td>\n",
       "      <td>414,116</td>\n",
       "      <td>1,631,748</td>\n",
       "      <td>155,814</td>\n",
       "      <td>555,852</td>\n",
       "      <td>266,925</td>\n",
       "    </tr>\n",
       "    <tr>\n",
       "      <th>Alaska</th>\n",
       "      <td>11,580,917</td>\n",
       "      <td>2,703,274</td>\n",
       "      <td>2,113,211</td>\n",
       "      <td>68,984</td>\n",
       "      <td>283,698</td>\n",
       "      <td>1,271,514</td>\n",
       "      <td>161,965</td>\n",
       "      <td>340,726</td>\n",
       "      <td>375,310</td>\n",
       "    </tr>\n",
       "    <tr>\n",
       "      <th>Arizona</th>\n",
       "      <td>28,577,420</td>\n",
       "      <td>10,452,117</td>\n",
       "      <td>10,346,172</td>\n",
       "      <td>64,560</td>\n",
       "      <td>625,316</td>\n",
       "      <td>1,966,947</td>\n",
       "      <td>259,768</td>\n",
       "      <td>1,097,103</td>\n",
       "      <td>271,972</td>\n",
       "    </tr>\n",
       "    <tr>\n",
       "      <th>Arkansas</th>\n",
       "      <td>19,882,973</td>\n",
       "      <td>8,162,327</td>\n",
       "      <td>6,572,760</td>\n",
       "      <td>871,039</td>\n",
       "      <td>243,532</td>\n",
       "      <td>1,468,304</td>\n",
       "      <td>107,112</td>\n",
       "      <td>351,802</td>\n",
       "      <td>309,742</td>\n",
       "    </tr>\n",
       "    <tr>\n",
       "      <th>California</th>\n",
       "      <td>269,774,501</td>\n",
       "      <td>90,276,519</td>\n",
       "      <td>109,031,702</td>\n",
       "      <td>10,633,226</td>\n",
       "      <td>8,177,522</td>\n",
       "      <td>10,529,860</td>\n",
       "      <td>1,790,672</td>\n",
       "      <td>9,667,904</td>\n",
       "      <td>3,809,737</td>\n",
       "    </tr>\n",
       "  </tbody>\n",
       "</table>\n",
       "</div>"
      ],
      "text/plain": [
       "           Total General Expenditure Education Expediture  \\\n",
       "State                                                       \n",
       "Alabama                   28,710,747           12,235,527   \n",
       "Alaska                    11,580,917            2,703,274   \n",
       "Arizona                   28,577,420           10,452,117   \n",
       "Arkansas                  19,882,973            8,162,327   \n",
       "California               269,774,501           90,276,519   \n",
       "\n",
       "           Public Welfare Expenditure Hospitals Expenditure  \\\n",
       "State                                                         \n",
       "Alabama                     8,204,660             2,370,549   \n",
       "Alaska                      2,113,211                68,984   \n",
       "Arizona                    10,346,172                64,560   \n",
       "Arkansas                    6,572,760               871,039   \n",
       "California                109,031,702            10,633,226   \n",
       "\n",
       "           Health Expenditure Highways Expenditure  \\\n",
       "State                                                \n",
       "Alabama               414,116            1,631,748   \n",
       "Alaska                283,698            1,271,514   \n",
       "Arizona               625,316            1,966,947   \n",
       "Arkansas              243,532            1,468,304   \n",
       "California          8,177,522           10,529,860   \n",
       "\n",
       "           Police Protection Expenditure Correction Expenditure  \\\n",
       "State                                                             \n",
       "Alabama                          155,814                555,852   \n",
       "Alaska                           161,965                340,726   \n",
       "Arizona                          259,768              1,097,103   \n",
       "Arkansas                         107,112                351,802   \n",
       "California                     1,790,672              9,667,904   \n",
       "\n",
       "           Natural Resources Expenditure  \n",
       "State                                     \n",
       "Alabama                          266,925  \n",
       "Alaska                           375,310  \n",
       "Arizona                          271,972  \n",
       "Arkansas                         309,742  \n",
       "California                     3,809,737  "
      ]
     },
     "execution_count": 4,
     "metadata": {},
     "output_type": "execute_result"
    }
   ],
   "source": [
    "state_asfin_df.head()"
   ]
  },
  {
   "cell_type": "markdown",
   "id": "89f006fb",
   "metadata": {},
   "source": [
    "# CENSUS"
   ]
  },
  {
   "cell_type": "code",
   "execution_count": 5,
   "id": "5a6f3bd1",
   "metadata": {},
   "outputs": [
    {
     "ename": "NameError",
     "evalue": "name 'Census' is not defined",
     "output_type": "error",
     "traceback": [
      "\u001b[1;31m---------------------------------------------------------------------------\u001b[0m",
      "\u001b[1;31mNameError\u001b[0m                                 Traceback (most recent call last)",
      "\u001b[1;32m<ipython-input-5-b47e5ab900d1>\u001b[0m in \u001b[0;36m<module>\u001b[1;34m\u001b[0m\n\u001b[1;32m----> 1\u001b[1;33m \u001b[0mc\u001b[0m \u001b[1;33m=\u001b[0m \u001b[0mCensus\u001b[0m\u001b[1;33m(\u001b[0m\u001b[0mapi_keyUSC\u001b[0m\u001b[1;33m,\u001b[0m \u001b[0myear\u001b[0m\u001b[1;33m=\u001b[0m\u001b[1;36m2015\u001b[0m\u001b[1;33m)\u001b[0m\u001b[1;33m\u001b[0m\u001b[1;33m\u001b[0m\u001b[0m\n\u001b[0m\u001b[0;32m      2\u001b[0m census_data = c.acs5.get((\"NAME\", \"B01003_001E\", \"B02001_003E\",\n\u001b[0;32m      3\u001b[0m                           \u001b[1;34m\"B02001_002E\"\u001b[0m\u001b[1;33m,\u001b[0m\u001b[1;34m\"B02001_005E\"\u001b[0m\u001b[1;33m,\u001b[0m\u001b[1;34m\"B03001_003E\"\u001b[0m\u001b[1;33m,\u001b[0m\u001b[1;34m\"B02001_008E\"\u001b[0m\u001b[1;33m,\u001b[0m\u001b[1;33m\u001b[0m\u001b[1;33m\u001b[0m\u001b[0m\n\u001b[0;32m      4\u001b[0m                           \"B17001_002E\"), {'for': 'state:*'})\n\u001b[0;32m      5\u001b[0m \u001b[1;33m\u001b[0m\u001b[0m\n",
      "\u001b[1;31mNameError\u001b[0m: name 'Census' is not defined"
     ]
    }
   ],
   "source": [
    "c = Census(api_keyUSC, year=2015)\n",
    "census_data = c.acs5.get((\"NAME\", \"B01003_001E\", \"B02001_003E\",\n",
    "                          \"B02001_002E\",\"B02001_005E\",\"B03001_003E\",\"B02001_008E\",\n",
    "                          \"B17001_002E\"), {'for': 'state:*'})\n",
    "\n",
    "# Convert to DataFrame\n",
    "census_df = pd.DataFrame(census_data)\n",
    "\n",
    "# Column Reordering\n",
    "\n",
    "census_df.drop('state', axis=1, inplace = True)\n",
    "census_df = census_df.rename(columns={\"NAME\": \"State\",\n",
    "                                      \"B01003_001E\": \"Population\",\n",
    "                                      \"B02001_003E\": \"Population Black\",\n",
    "                                      \"B02001_002E\": \"Population White\",\n",
    "                                      \"B02001_005E\": \"Population Asian\",\n",
    "                                      \"B03001_003E\": \"Population Hispanic\",\n",
    "                                      \"B02001_008E\": \"Population Mixed Race\",\n",
    "                                      \"B17001_002E\": \"Poverty Count\",\n",
    "                                      })\n",
    "\n",
    "# Add in Poverty Rate (Poverty Count / Population)\n",
    "census_df[\"Poverty Rate\"] = round(100 * \\\n",
    "    census_df[\"Poverty Count\"].astype(\n",
    "        int) / census_df[\"Population\"].astype(int),2)"
   ]
  },
  {
   "cell_type": "code",
   "execution_count": 6,
   "id": "57391b0f",
   "metadata": {},
   "outputs": [
    {
     "ename": "NameError",
     "evalue": "name 'census_df' is not defined",
     "output_type": "error",
     "traceback": [
      "\u001b[1;31m---------------------------------------------------------------------------\u001b[0m",
      "\u001b[1;31mNameError\u001b[0m                                 Traceback (most recent call last)",
      "\u001b[1;32m<ipython-input-6-075f91c8e3e4>\u001b[0m in \u001b[0;36m<module>\u001b[1;34m\u001b[0m\n\u001b[1;32m----> 1\u001b[1;33m \u001b[0mcensus_df\u001b[0m \u001b[1;33m=\u001b[0m \u001b[0mcensus_df\u001b[0m\u001b[1;33m.\u001b[0m\u001b[0msort_values\u001b[0m\u001b[1;33m(\u001b[0m\u001b[1;34m'State'\u001b[0m\u001b[1;33m)\u001b[0m\u001b[1;33m\u001b[0m\u001b[1;33m\u001b[0m\u001b[0m\n\u001b[0m\u001b[0;32m      2\u001b[0m \u001b[0mcensus_df\u001b[0m\u001b[1;33m.\u001b[0m\u001b[0mset_index\u001b[0m\u001b[1;33m(\u001b[0m\u001b[1;34m'State'\u001b[0m\u001b[1;33m,\u001b[0m \u001b[0minplace\u001b[0m\u001b[1;33m=\u001b[0m\u001b[1;32mTrue\u001b[0m\u001b[1;33m)\u001b[0m\u001b[1;33m\u001b[0m\u001b[1;33m\u001b[0m\u001b[0m\n\u001b[0;32m      3\u001b[0m \u001b[0mcensus_df\u001b[0m\u001b[1;33m\u001b[0m\u001b[1;33m\u001b[0m\u001b[0m\n",
      "\u001b[1;31mNameError\u001b[0m: name 'census_df' is not defined"
     ]
    }
   ],
   "source": [
    "census_df = census_df.sort_values('State')\n",
    "census_df.set_index('State', inplace=True)\n",
    "census_df"
   ]
  },
  {
   "cell_type": "code",
   "execution_count": 7,
   "id": "27762157",
   "metadata": {},
   "outputs": [
    {
     "ename": "NameError",
     "evalue": "name 'census_df' is not defined",
     "output_type": "error",
     "traceback": [
      "\u001b[1;31m---------------------------------------------------------------------------\u001b[0m",
      "\u001b[1;31mNameError\u001b[0m                                 Traceback (most recent call last)",
      "\u001b[1;32m<ipython-input-7-36c13746b6d5>\u001b[0m in \u001b[0;36m<module>\u001b[1;34m\u001b[0m\n\u001b[0;32m      1\u001b[0m \u001b[1;31m#merge together\u001b[0m\u001b[1;33m\u001b[0m\u001b[1;33m\u001b[0m\u001b[1;33m\u001b[0m\u001b[0m\n\u001b[1;32m----> 2\u001b[1;33m \u001b[0mstate_df\u001b[0m \u001b[1;33m=\u001b[0m \u001b[0mpd\u001b[0m\u001b[1;33m.\u001b[0m\u001b[0mmerge\u001b[0m\u001b[1;33m(\u001b[0m\u001b[0mcensus_df\u001b[0m\u001b[1;33m,\u001b[0m\u001b[0mstate_asfin_df\u001b[0m\u001b[1;33m,\u001b[0m \u001b[0mleft_index\u001b[0m\u001b[1;33m=\u001b[0m\u001b[1;32mTrue\u001b[0m\u001b[1;33m,\u001b[0m \u001b[0mright_index\u001b[0m\u001b[1;33m=\u001b[0m\u001b[1;32mTrue\u001b[0m\u001b[1;33m)\u001b[0m\u001b[1;33m\u001b[0m\u001b[1;33m\u001b[0m\u001b[0m\n\u001b[0m\u001b[0;32m      3\u001b[0m \u001b[0mstate_df\u001b[0m\u001b[1;33m\u001b[0m\u001b[1;33m\u001b[0m\u001b[0m\n",
      "\u001b[1;31mNameError\u001b[0m: name 'census_df' is not defined"
     ]
    }
   ],
   "source": [
    "#merge together\n",
    "state_df = pd.merge(census_df,state_asfin_df, left_index=True, right_index=True)\n",
    "state_df"
   ]
  },
  {
   "cell_type": "code",
   "execution_count": 8,
   "id": "80e4ce9a",
   "metadata": {},
   "outputs": [
    {
     "ename": "NameError",
     "evalue": "name 'state_df' is not defined",
     "output_type": "error",
     "traceback": [
      "\u001b[1;31m---------------------------------------------------------------------------\u001b[0m",
      "\u001b[1;31mNameError\u001b[0m                                 Traceback (most recent call last)",
      "\u001b[1;32m<ipython-input-8-e7c6d76fec61>\u001b[0m in \u001b[0;36m<module>\u001b[1;34m\u001b[0m\n\u001b[0;32m     52\u001b[0m    'Wyoming': 'WY'}\n\u001b[0;32m     53\u001b[0m \u001b[1;33m\u001b[0m\u001b[0m\n\u001b[1;32m---> 54\u001b[1;33m \u001b[0mstate_df\u001b[0m\u001b[1;33m.\u001b[0m\u001b[0mindex\u001b[0m \u001b[1;33m=\u001b[0m \u001b[0mstate_df\u001b[0m\u001b[1;33m.\u001b[0m\u001b[0mindex\u001b[0m\u001b[1;33m.\u001b[0m\u001b[0mmap\u001b[0m\u001b[1;33m(\u001b[0m\u001b[0mus_state_abbrev\u001b[0m\u001b[1;33m)\u001b[0m\u001b[1;33m\u001b[0m\u001b[1;33m\u001b[0m\u001b[0m\n\u001b[0m",
      "\u001b[1;31mNameError\u001b[0m: name 'state_df' is not defined"
     ]
    }
   ],
   "source": [
    "#convert index to match the other datasets\n",
    "us_state_abbrev = {\n",
    "   'Alabama': 'AL',\n",
    "   'Alaska': 'AK',\n",
    "   'Arizona': 'AZ',\n",
    "   'Arkansas': 'AR',\n",
    "   'California': 'CA',\n",
    "   'Colorado': 'CO',\n",
    "   'Connecticut': 'CT',\n",
    "   'Delaware': 'DE',\n",
    "   'Florida': 'FL',\n",
    "   'Georgia': 'GA',\n",
    "   'Hawaii': 'HI',\n",
    "   'Idaho': 'ID',\n",
    "   'Illinois': 'IL',\n",
    "   'Indiana': 'IN',\n",
    "   'Iowa': 'IA',\n",
    "   'Kansas': 'KS',\n",
    "   'Kentucky': 'KY',\n",
    "   'Louisiana': 'LA',\n",
    "   'Maine': 'ME',\n",
    "   'Maryland': 'MD',\n",
    "   'Massachusetts': 'MA',\n",
    "   'Michigan': 'MI',\n",
    "   'Minnesota': 'MN',\n",
    "   'Mississippi': 'MS',\n",
    "   'Missouri': 'MO',\n",
    "   'Montana': 'MT',\n",
    "   'Nebraska': 'NE',\n",
    "   'Nevada': 'NV',\n",
    "   'New Hampshire': 'NH',\n",
    "   'New Jersey': 'NJ',\n",
    "   'New Mexico': 'NM',\n",
    "   'New York': 'NY',\n",
    "   'North Carolina': 'NC',\n",
    "   'North Dakota': 'ND',\n",
    "   'Ohio': 'OH',\n",
    "   'Oklahoma': 'OK',\n",
    "   'Oregon': 'OR',\n",
    "   'Pennsylvania': 'PA',\n",
    "   'Rhode Island': 'RI',\n",
    "   'South Carolina': 'SC',\n",
    "   'South Dakota': 'SD',\n",
    "   'Tennessee': 'TN',\n",
    "   'Texas': 'TX',\n",
    "   'Utah': 'UT',\n",
    "   'Vermont': 'VT',\n",
    "   'Virginia': 'VA',\n",
    "   'Washington': 'WA',\n",
    "   'West Virginia': 'WV',\n",
    "   'Wisconsin': 'WI',\n",
    "   'Wyoming': 'WY'}\n",
    "\n",
    "state_df.index = state_df.index.map(us_state_abbrev)"
   ]
  },
  {
   "cell_type": "code",
   "execution_count": 9,
   "id": "eac7b239",
   "metadata": {},
   "outputs": [
    {
     "ename": "NameError",
     "evalue": "name 'state_df' is not defined",
     "output_type": "error",
     "traceback": [
      "\u001b[1;31m---------------------------------------------------------------------------\u001b[0m",
      "\u001b[1;31mNameError\u001b[0m                                 Traceback (most recent call last)",
      "\u001b[1;32m<ipython-input-9-8ae739855903>\u001b[0m in \u001b[0;36m<module>\u001b[1;34m\u001b[0m\n\u001b[0;32m      1\u001b[0m \u001b[1;31m#verify dtypes\u001b[0m\u001b[1;33m\u001b[0m\u001b[1;33m\u001b[0m\u001b[1;33m\u001b[0m\u001b[0m\n\u001b[1;32m----> 2\u001b[1;33m \u001b[0mstate_df\u001b[0m\u001b[1;33m.\u001b[0m\u001b[0mdtypes\u001b[0m\u001b[1;33m\u001b[0m\u001b[1;33m\u001b[0m\u001b[0m\n\u001b[0m",
      "\u001b[1;31mNameError\u001b[0m: name 'state_df' is not defined"
     ]
    }
   ],
   "source": [
    "#verify dtypes \n",
    "state_df.dtypes"
   ]
  },
  {
   "cell_type": "code",
   "execution_count": 10,
   "id": "e69e7775",
   "metadata": {},
   "outputs": [
    {
     "ename": "NameError",
     "evalue": "name 'state_df' is not defined",
     "output_type": "error",
     "traceback": [
      "\u001b[1;31m---------------------------------------------------------------------------\u001b[0m",
      "\u001b[1;31mNameError\u001b[0m                                 Traceback (most recent call last)",
      "\u001b[1;32m<ipython-input-10-0594738111f0>\u001b[0m in \u001b[0;36m<module>\u001b[1;34m\u001b[0m\n\u001b[0;32m      1\u001b[0m \u001b[1;31m#format values & convert from string to numeric\u001b[0m\u001b[1;33m\u001b[0m\u001b[1;33m\u001b[0m\u001b[1;33m\u001b[0m\u001b[0m\n\u001b[1;32m----> 2\u001b[1;33m \u001b[0mstate_df\u001b[0m \u001b[1;33m=\u001b[0m \u001b[0mstate_df\u001b[0m\u001b[1;33m.\u001b[0m\u001b[0mreplace\u001b[0m\u001b[1;33m(\u001b[0m\u001b[1;34m','\u001b[0m\u001b[1;33m,\u001b[0m\u001b[1;34m''\u001b[0m\u001b[1;33m,\u001b[0m \u001b[0mregex\u001b[0m\u001b[1;33m=\u001b[0m\u001b[1;32mTrue\u001b[0m\u001b[1;33m)\u001b[0m\u001b[1;33m\u001b[0m\u001b[1;33m\u001b[0m\u001b[0m\n\u001b[0m\u001b[0;32m      3\u001b[0m \u001b[0mc\u001b[0m \u001b[1;33m=\u001b[0m \u001b[0mstate_df\u001b[0m\u001b[1;33m.\u001b[0m\u001b[0mselect_dtypes\u001b[0m\u001b[1;33m(\u001b[0m\u001b[0mobject\u001b[0m\u001b[1;33m)\u001b[0m\u001b[1;33m.\u001b[0m\u001b[0mcolumns\u001b[0m\u001b[1;33m\u001b[0m\u001b[1;33m\u001b[0m\u001b[0m\n\u001b[0;32m      4\u001b[0m \u001b[0mstate_df\u001b[0m\u001b[1;33m[\u001b[0m\u001b[0mc\u001b[0m\u001b[1;33m]\u001b[0m \u001b[1;33m=\u001b[0m \u001b[0mstate_df\u001b[0m\u001b[1;33m[\u001b[0m\u001b[0mc\u001b[0m\u001b[1;33m]\u001b[0m\u001b[1;33m.\u001b[0m\u001b[0mapply\u001b[0m\u001b[1;33m(\u001b[0m\u001b[0mpd\u001b[0m\u001b[1;33m.\u001b[0m\u001b[0mto_numeric\u001b[0m\u001b[1;33m,\u001b[0m\u001b[0merrors\u001b[0m\u001b[1;33m=\u001b[0m\u001b[1;34m'coerce'\u001b[0m\u001b[1;33m)\u001b[0m\u001b[1;33m\u001b[0m\u001b[1;33m\u001b[0m\u001b[0m\n\u001b[0;32m      5\u001b[0m \u001b[0mstate_df\u001b[0m\u001b[1;33m\u001b[0m\u001b[1;33m\u001b[0m\u001b[0m\n",
      "\u001b[1;31mNameError\u001b[0m: name 'state_df' is not defined"
     ]
    }
   ],
   "source": [
    "#format values & convert from string to numeric\n",
    "state_df = state_df.replace(',','', regex=True)\n",
    "c = state_df.select_dtypes(object).columns\n",
    "state_df[c] = state_df[c].apply(pd.to_numeric,errors='coerce')\n",
    "state_df"
   ]
  },
  {
   "cell_type": "markdown",
   "id": "423445a6",
   "metadata": {},
   "source": [
    "# POLICE DEATHS"
   ]
  },
  {
   "cell_type": "code",
   "execution_count": 11,
   "id": "a55355f4",
   "metadata": {},
   "outputs": [
    {
     "data": {
      "text/html": [
       "<div>\n",
       "<style scoped>\n",
       "    .dataframe tbody tr th:only-of-type {\n",
       "        vertical-align: middle;\n",
       "    }\n",
       "\n",
       "    .dataframe tbody tr th {\n",
       "        vertical-align: top;\n",
       "    }\n",
       "\n",
       "    .dataframe thead th {\n",
       "        text-align: right;\n",
       "    }\n",
       "</style>\n",
       "<table border=\"1\" class=\"dataframe\">\n",
       "  <thead>\n",
       "    <tr style=\"text-align: right;\">\n",
       "      <th></th>\n",
       "      <th>person</th>\n",
       "      <th>dept</th>\n",
       "      <th>eow</th>\n",
       "      <th>cause</th>\n",
       "      <th>cause_short</th>\n",
       "      <th>date</th>\n",
       "      <th>year</th>\n",
       "      <th>canine</th>\n",
       "      <th>dept_name</th>\n",
       "      <th>state</th>\n",
       "    </tr>\n",
       "  </thead>\n",
       "  <tbody>\n",
       "    <tr>\n",
       "      <th>0</th>\n",
       "      <td>Constable Darius Quimby</td>\n",
       "      <td>Albany County Constable's Office, NY</td>\n",
       "      <td>EOW: Monday, January 3, 1791</td>\n",
       "      <td>Cause of Death: Gunfire</td>\n",
       "      <td>Gunfire</td>\n",
       "      <td>1791-01-03</td>\n",
       "      <td>1791</td>\n",
       "      <td>False</td>\n",
       "      <td>Albany County Constable's Office</td>\n",
       "      <td>NY</td>\n",
       "    </tr>\n",
       "    <tr>\n",
       "      <th>1</th>\n",
       "      <td>Sheriff Cornelius Hogeboom</td>\n",
       "      <td>Columbia County Sheriff's Office, NY</td>\n",
       "      <td>EOW: Saturday, October 22, 1791</td>\n",
       "      <td>Cause of Death: Gunfire</td>\n",
       "      <td>Gunfire</td>\n",
       "      <td>1791-10-22</td>\n",
       "      <td>1791</td>\n",
       "      <td>False</td>\n",
       "      <td>Columbia County Sheriff's Office</td>\n",
       "      <td>NY</td>\n",
       "    </tr>\n",
       "    <tr>\n",
       "      <th>2</th>\n",
       "      <td>Deputy Sheriff Isaac Smith</td>\n",
       "      <td>Westchester County Sheriff's Department, NY</td>\n",
       "      <td>EOW: Thursday, May 17, 1792</td>\n",
       "      <td>Cause of Death: Gunfire</td>\n",
       "      <td>Gunfire</td>\n",
       "      <td>1792-05-17</td>\n",
       "      <td>1792</td>\n",
       "      <td>False</td>\n",
       "      <td>Westchester County Sheriff's Department</td>\n",
       "      <td>NY</td>\n",
       "    </tr>\n",
       "    <tr>\n",
       "      <th>3</th>\n",
       "      <td>Marshal Robert Forsyth</td>\n",
       "      <td>United States Department of Justice - United S...</td>\n",
       "      <td>EOW: Saturday, January 11, 1794</td>\n",
       "      <td>Cause of Death: Gunfire</td>\n",
       "      <td>Gunfire</td>\n",
       "      <td>1794-01-11</td>\n",
       "      <td>1794</td>\n",
       "      <td>False</td>\n",
       "      <td>United States Department of Justice - United S...</td>\n",
       "      <td>US</td>\n",
       "    </tr>\n",
       "    <tr>\n",
       "      <th>4</th>\n",
       "      <td>Sheriff Robert Maxwell</td>\n",
       "      <td>Greenville County Sheriff's Office, SC</td>\n",
       "      <td>EOW: Sunday, November 12, 1797</td>\n",
       "      <td>Cause of Death: Gunfire</td>\n",
       "      <td>Gunfire</td>\n",
       "      <td>1797-11-12</td>\n",
       "      <td>1797</td>\n",
       "      <td>False</td>\n",
       "      <td>Greenville County Sheriff's Office</td>\n",
       "      <td>SC</td>\n",
       "    </tr>\n",
       "  </tbody>\n",
       "</table>\n",
       "</div>"
      ],
      "text/plain": [
       "                       person  \\\n",
       "0     Constable Darius Quimby   \n",
       "1  Sheriff Cornelius Hogeboom   \n",
       "2  Deputy Sheriff Isaac Smith   \n",
       "3      Marshal Robert Forsyth   \n",
       "4      Sheriff Robert Maxwell   \n",
       "\n",
       "                                                dept  \\\n",
       "0               Albany County Constable's Office, NY   \n",
       "1               Columbia County Sheriff's Office, NY   \n",
       "2        Westchester County Sheriff's Department, NY   \n",
       "3  United States Department of Justice - United S...   \n",
       "4             Greenville County Sheriff's Office, SC   \n",
       "\n",
       "                               eow                    cause cause_short  \\\n",
       "0     EOW: Monday, January 3, 1791  Cause of Death: Gunfire     Gunfire   \n",
       "1  EOW: Saturday, October 22, 1791  Cause of Death: Gunfire     Gunfire   \n",
       "2      EOW: Thursday, May 17, 1792  Cause of Death: Gunfire     Gunfire   \n",
       "3  EOW: Saturday, January 11, 1794  Cause of Death: Gunfire     Gunfire   \n",
       "4   EOW: Sunday, November 12, 1797  Cause of Death: Gunfire     Gunfire   \n",
       "\n",
       "         date  year  canine  \\\n",
       "0  1791-01-03  1791   False   \n",
       "1  1791-10-22  1791   False   \n",
       "2  1792-05-17  1792   False   \n",
       "3  1794-01-11  1794   False   \n",
       "4  1797-11-12  1797   False   \n",
       "\n",
       "                                           dept_name state  \n",
       "0                   Albany County Constable's Office    NY  \n",
       "1                   Columbia County Sheriff's Office    NY  \n",
       "2            Westchester County Sheriff's Department    NY  \n",
       "3  United States Department of Justice - United S...    US  \n",
       "4                 Greenville County Sheriff's Office    SC  "
      ]
     },
     "execution_count": 11,
     "metadata": {},
     "output_type": "execute_result"
    }
   ],
   "source": [
    "csv_file = \"police_deaths.csv\"\n",
    "police_deaths_df = pd.read_csv(csv_file)\n",
    "police_deaths_df.head()"
   ]
  },
  {
   "cell_type": "code",
   "execution_count": 12,
   "id": "0e38b6b6",
   "metadata": {},
   "outputs": [],
   "source": [
    "#Create filtered dataframe with specific columns\n",
    "deaths_columns = [\"year\", \"cause_short\", \"state\"]\n",
    "police_deaths_transformed = police_deaths_df[deaths_columns].copy()"
   ]
  },
  {
   "cell_type": "code",
   "execution_count": 13,
   "id": "02405a11",
   "metadata": {},
   "outputs": [
    {
     "data": {
      "text/html": [
       "<div>\n",
       "<style scoped>\n",
       "    .dataframe tbody tr th:only-of-type {\n",
       "        vertical-align: middle;\n",
       "    }\n",
       "\n",
       "    .dataframe tbody tr th {\n",
       "        vertical-align: top;\n",
       "    }\n",
       "\n",
       "    .dataframe thead th {\n",
       "        text-align: right;\n",
       "    }\n",
       "</style>\n",
       "<table border=\"1\" class=\"dataframe\">\n",
       "  <thead>\n",
       "    <tr style=\"text-align: right;\">\n",
       "      <th></th>\n",
       "      <th>id</th>\n",
       "      <th>cause_short</th>\n",
       "      <th>state</th>\n",
       "    </tr>\n",
       "  </thead>\n",
       "  <tbody>\n",
       "    <tr>\n",
       "      <th>0</th>\n",
       "      <td>1791</td>\n",
       "      <td>Gunfire</td>\n",
       "      <td>NY</td>\n",
       "    </tr>\n",
       "    <tr>\n",
       "      <th>1</th>\n",
       "      <td>1791</td>\n",
       "      <td>Gunfire</td>\n",
       "      <td>NY</td>\n",
       "    </tr>\n",
       "    <tr>\n",
       "      <th>2</th>\n",
       "      <td>1792</td>\n",
       "      <td>Gunfire</td>\n",
       "      <td>NY</td>\n",
       "    </tr>\n",
       "    <tr>\n",
       "      <th>3</th>\n",
       "      <td>1794</td>\n",
       "      <td>Gunfire</td>\n",
       "      <td>US</td>\n",
       "    </tr>\n",
       "    <tr>\n",
       "      <th>4</th>\n",
       "      <td>1797</td>\n",
       "      <td>Gunfire</td>\n",
       "      <td>SC</td>\n",
       "    </tr>\n",
       "  </tbody>\n",
       "</table>\n",
       "</div>"
      ],
      "text/plain": [
       "     id cause_short state\n",
       "0  1791     Gunfire    NY\n",
       "1  1791     Gunfire    NY\n",
       "2  1792     Gunfire    NY\n",
       "3  1794     Gunfire    US\n",
       "4  1797     Gunfire    SC"
      ]
     },
     "execution_count": 13,
     "metadata": {},
     "output_type": "execute_result"
    }
   ],
   "source": [
    "#Rename the column headers\n",
    "police_deaths_transformed = police_deaths_transformed.rename(columns = {\"year\" : \"id\"})\n",
    "police_deaths_transformed.head()"
   ]
  },
  {
   "cell_type": "code",
   "execution_count": 14,
   "id": "6fe869f1",
   "metadata": {},
   "outputs": [
    {
     "data": {
      "text/html": [
       "<div>\n",
       "<style scoped>\n",
       "    .dataframe tbody tr th:only-of-type {\n",
       "        vertical-align: middle;\n",
       "    }\n",
       "\n",
       "    .dataframe tbody tr th {\n",
       "        vertical-align: top;\n",
       "    }\n",
       "\n",
       "    .dataframe thead th {\n",
       "        text-align: right;\n",
       "    }\n",
       "</style>\n",
       "<table border=\"1\" class=\"dataframe\">\n",
       "  <thead>\n",
       "    <tr style=\"text-align: right;\">\n",
       "      <th></th>\n",
       "      <th>cause_short</th>\n",
       "      <th>state</th>\n",
       "    </tr>\n",
       "    <tr>\n",
       "      <th>id</th>\n",
       "      <th></th>\n",
       "      <th></th>\n",
       "    </tr>\n",
       "  </thead>\n",
       "  <tbody>\n",
       "    <tr>\n",
       "      <th>1791</th>\n",
       "      <td>Gunfire</td>\n",
       "      <td>NY</td>\n",
       "    </tr>\n",
       "    <tr>\n",
       "      <th>1791</th>\n",
       "      <td>Gunfire</td>\n",
       "      <td>NY</td>\n",
       "    </tr>\n",
       "    <tr>\n",
       "      <th>1792</th>\n",
       "      <td>Gunfire</td>\n",
       "      <td>NY</td>\n",
       "    </tr>\n",
       "    <tr>\n",
       "      <th>1794</th>\n",
       "      <td>Gunfire</td>\n",
       "      <td>US</td>\n",
       "    </tr>\n",
       "    <tr>\n",
       "      <th>1797</th>\n",
       "      <td>Gunfire</td>\n",
       "      <td>SC</td>\n",
       "    </tr>\n",
       "  </tbody>\n",
       "</table>\n",
       "</div>"
      ],
      "text/plain": [
       "     cause_short state\n",
       "id                    \n",
       "1791     Gunfire    NY\n",
       "1791     Gunfire    NY\n",
       "1792     Gunfire    NY\n",
       "1794     Gunfire    US\n",
       "1797     Gunfire    SC"
      ]
     },
     "execution_count": 14,
     "metadata": {},
     "output_type": "execute_result"
    }
   ],
   "source": [
    "#Set index\n",
    "police_deaths_transformed.set_index(\"id\", inplace=True)\n",
    "police_deaths_transformed.head()"
   ]
  },
  {
   "cell_type": "code",
   "execution_count": 15,
   "id": "b4547858",
   "metadata": {},
   "outputs": [
    {
     "data": {
      "text/html": [
       "<div>\n",
       "<style scoped>\n",
       "    .dataframe tbody tr th:only-of-type {\n",
       "        vertical-align: middle;\n",
       "    }\n",
       "\n",
       "    .dataframe tbody tr th {\n",
       "        vertical-align: top;\n",
       "    }\n",
       "\n",
       "    .dataframe thead th {\n",
       "        text-align: right;\n",
       "    }\n",
       "</style>\n",
       "<table border=\"1\" class=\"dataframe\">\n",
       "  <thead>\n",
       "    <tr style=\"text-align: right;\">\n",
       "      <th></th>\n",
       "      <th>cause_short</th>\n",
       "      <th>state</th>\n",
       "    </tr>\n",
       "    <tr>\n",
       "      <th>id</th>\n",
       "      <th></th>\n",
       "      <th></th>\n",
       "    </tr>\n",
       "  </thead>\n",
       "  <tbody>\n",
       "    <tr>\n",
       "      <th>2015</th>\n",
       "      <td>Struck by vehicle</td>\n",
       "      <td>CO</td>\n",
       "    </tr>\n",
       "    <tr>\n",
       "      <th>2015</th>\n",
       "      <td>Heart attack</td>\n",
       "      <td>MO</td>\n",
       "    </tr>\n",
       "    <tr>\n",
       "      <th>2015</th>\n",
       "      <td>Vehicle pursuit</td>\n",
       "      <td>MD</td>\n",
       "    </tr>\n",
       "    <tr>\n",
       "      <th>2015</th>\n",
       "      <td>Automobile accident</td>\n",
       "      <td>TX</td>\n",
       "    </tr>\n",
       "    <tr>\n",
       "      <th>2015</th>\n",
       "      <td>Automobile accident</td>\n",
       "      <td>TX</td>\n",
       "    </tr>\n",
       "  </tbody>\n",
       "</table>\n",
       "</div>"
      ],
      "text/plain": [
       "              cause_short state\n",
       "id                             \n",
       "2015    Struck by vehicle    CO\n",
       "2015         Heart attack    MO\n",
       "2015      Vehicle pursuit    MD\n",
       "2015  Automobile accident    TX\n",
       "2015  Automobile accident    TX"
      ]
     },
     "execution_count": 15,
     "metadata": {},
     "output_type": "execute_result"
    }
   ],
   "source": [
    "#loc data on year 2015\n",
    "year_filtered= police_deaths_transformed.loc['2015']\n",
    "year_filtered.head()"
   ]
  },
  {
   "cell_type": "code",
   "execution_count": 16,
   "id": "3d19ae9f",
   "metadata": {},
   "outputs": [
    {
     "data": {
      "text/html": [
       "<div>\n",
       "<style scoped>\n",
       "    .dataframe tbody tr th:only-of-type {\n",
       "        vertical-align: middle;\n",
       "    }\n",
       "\n",
       "    .dataframe tbody tr th {\n",
       "        vertical-align: top;\n",
       "    }\n",
       "\n",
       "    .dataframe thead th {\n",
       "        text-align: right;\n",
       "    }\n",
       "</style>\n",
       "<table border=\"1\" class=\"dataframe\">\n",
       "  <thead>\n",
       "    <tr style=\"text-align: right;\">\n",
       "      <th></th>\n",
       "      <th>cause_short</th>\n",
       "      <th>state</th>\n",
       "    </tr>\n",
       "    <tr>\n",
       "      <th>id</th>\n",
       "      <th></th>\n",
       "      <th></th>\n",
       "    </tr>\n",
       "  </thead>\n",
       "  <tbody>\n",
       "    <tr>\n",
       "      <th>2015</th>\n",
       "      <td>Gunfire</td>\n",
       "      <td>GA</td>\n",
       "    </tr>\n",
       "    <tr>\n",
       "      <th>2015</th>\n",
       "      <td>Gunfire</td>\n",
       "      <td>PA</td>\n",
       "    </tr>\n",
       "    <tr>\n",
       "      <th>2015</th>\n",
       "      <td>Gunfire</td>\n",
       "      <td>US</td>\n",
       "    </tr>\n",
       "    <tr>\n",
       "      <th>2015</th>\n",
       "      <td>Gunfire</td>\n",
       "      <td>TR</td>\n",
       "    </tr>\n",
       "    <tr>\n",
       "      <th>2015</th>\n",
       "      <td>Gunfire</td>\n",
       "      <td>CA</td>\n",
       "    </tr>\n",
       "  </tbody>\n",
       "</table>\n",
       "</div>"
      ],
      "text/plain": [
       "     cause_short state\n",
       "id                    \n",
       "2015     Gunfire    GA\n",
       "2015     Gunfire    PA\n",
       "2015     Gunfire    US\n",
       "2015     Gunfire    TR\n",
       "2015     Gunfire    CA"
      ]
     },
     "execution_count": 16,
     "metadata": {},
     "output_type": "execute_result"
    }
   ],
   "source": [
    "#Create filter to get gunfire deaths only\n",
    "gunfire_filtered= year_filtered.loc[year_filtered['cause_short'] == 'Gunfire']\n",
    "gunfire_filtered.head()"
   ]
  },
  {
   "cell_type": "code",
   "execution_count": 17,
   "id": "39607097",
   "metadata": {},
   "outputs": [
    {
     "data": {
      "text/html": [
       "<div>\n",
       "<style scoped>\n",
       "    .dataframe tbody tr th:only-of-type {\n",
       "        vertical-align: middle;\n",
       "    }\n",
       "\n",
       "    .dataframe tbody tr th {\n",
       "        vertical-align: top;\n",
       "    }\n",
       "\n",
       "    .dataframe thead th {\n",
       "        text-align: right;\n",
       "    }\n",
       "</style>\n",
       "<table border=\"1\" class=\"dataframe\">\n",
       "  <thead>\n",
       "    <tr style=\"text-align: right;\">\n",
       "      <th></th>\n",
       "      <th>police_shooting_deaths</th>\n",
       "    </tr>\n",
       "    <tr>\n",
       "      <th>state</th>\n",
       "      <th></th>\n",
       "    </tr>\n",
       "  </thead>\n",
       "  <tbody>\n",
       "    <tr>\n",
       "      <th>AR</th>\n",
       "      <td>1</td>\n",
       "    </tr>\n",
       "    <tr>\n",
       "      <th>CA</th>\n",
       "      <td>4</td>\n",
       "    </tr>\n",
       "    <tr>\n",
       "      <th>CO</th>\n",
       "      <td>1</td>\n",
       "    </tr>\n",
       "    <tr>\n",
       "      <th>FL</th>\n",
       "      <td>1</td>\n",
       "    </tr>\n",
       "    <tr>\n",
       "      <th>GA</th>\n",
       "      <td>1</td>\n",
       "    </tr>\n",
       "  </tbody>\n",
       "</table>\n",
       "</div>"
      ],
      "text/plain": [
       "       police_shooting_deaths\n",
       "state                        \n",
       " AR                         1\n",
       " CA                         4\n",
       " CO                         1\n",
       " FL                         1\n",
       " GA                         1"
      ]
     },
     "execution_count": 17,
     "metadata": {},
     "output_type": "execute_result"
    }
   ],
   "source": [
    "#Group data by state\n",
    "state_grouped = gunfire_filtered.groupby(\"state\").count()\n",
    "#Rename the column headers\n",
    "state_grouped_df = state_grouped.rename(columns = {\"cause_short\" : \"police_shooting_deaths\"})\n",
    "state_grouped_df.head()\n"
   ]
  },
  {
   "cell_type": "code",
   "execution_count": 82,
   "id": "c7db37fd",
   "metadata": {},
   "outputs": [],
   "source": [
    "#Create database connection\n",
    "connection_string = \"postgres:Momw2kids@localhost:5432/shootings\"\n",
    "engine = create_engine(f'postgresql://{connection_string}')"
   ]
  },
  {
   "cell_type": "code",
   "execution_count": 83,
   "id": "c461f470",
   "metadata": {},
   "outputs": [
    {
     "name": "stderr",
     "output_type": "stream",
     "text": [
      "<ipython-input-83-208f519aad61>:2: SADeprecationWarning: The Engine.table_names() method is deprecated and will be removed in a future release.  Please refer to Inspector.get_table_names(). (deprecated since: 1.4)\n",
      "  engine.table_names()\n"
     ]
    },
    {
     "data": {
      "text/plain": [
       "['police_deaths']"
      ]
     },
     "execution_count": 83,
     "metadata": {},
     "output_type": "execute_result"
    }
   ],
   "source": [
    "#confirm table\n",
    "engine.table_names()"
   ]
  },
  {
   "cell_type": "code",
   "execution_count": 85,
   "id": "2296dd9d",
   "metadata": {},
   "outputs": [],
   "source": [
    "#Load DataFrames into database\n",
    "state_grouped_df.to_sql(name='police_deaths', con=engine, if_exists='append', index= True)"
   ]
  },
  {
   "cell_type": "code",
   "execution_count": null,
   "id": "594b61e8",
   "metadata": {},
   "outputs": [],
   "source": []
  },
  {
   "cell_type": "code",
   "execution_count": null,
   "id": "73ad3112",
   "metadata": {},
   "outputs": [],
   "source": []
  },
  {
   "cell_type": "code",
   "execution_count": null,
   "id": "e7dbe945",
   "metadata": {},
   "outputs": [],
   "source": []
  }
 ],
 "metadata": {
  "kernelspec": {
   "display_name": "Python 3",
   "language": "python",
   "name": "python3"
  },
  "language_info": {
   "codemirror_mode": {
    "name": "ipython",
    "version": 3
   },
   "file_extension": ".py",
   "mimetype": "text/x-python",
   "name": "python",
   "nbconvert_exporter": "python",
   "pygments_lexer": "ipython3",
   "version": "3.8.8"
  }
 },
 "nbformat": 4,
 "nbformat_minor": 5
}
